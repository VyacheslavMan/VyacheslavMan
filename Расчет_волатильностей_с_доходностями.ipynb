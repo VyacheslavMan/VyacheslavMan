{
 "cells": [
  {
   "cell_type": "code",
   "execution_count": null,
   "metadata": {
    "colab": {
     "base_uri": "https://localhost:8080/",
     "height": 380
    },
    "id": "1N3ElR8OKzp1",
    "outputId": "ae5e2091-3455-4766-b71e-155488217eae"
   },
   "outputs": [],
   "source": [
    "import pandas as pd\n",
    "import numpy as np\n",
    "\n",
    "\n",
    "file='~/Desktop/Data_btc.xlsx'\n",
    "\n",
    "# Load spreadsheet\n",
    "xl = pd.ExcelFile(file)\n",
    "\n",
    "# Print the sheet names\n",
    "print(xl.sheet_names)\n",
    "df_btc = xl.parse(xl.sheet_names[0])\n",
    "\n",
    "\n",
    "file='~/Desktop//Data_snp.xlsx'\n",
    "\n",
    "# Load spreadsheet\n",
    "xl = pd.ExcelFile(file)\n",
    "\n",
    "# Print the sheet names\n",
    "print(xl.sheet_names)\n",
    "df_snp = xl.parse(xl.sheet_names[0])\n",
    "\n",
    "\n",
    "# file='C:/Users/VIP13/Downloads/Data_eth.xlsx'\n",
    "# xl = pd.ExcelFile(file)\n",
    "\n",
    "# # Print the sheet names\n",
    "# print(xl.sheet_names)\n",
    "# df_eth = xl.parse(xl.sheet_names[0])\n",
    "\n",
    "\n",
    "# file='C:/Users/VIP13/Downloads/Data_ltc.xlsx'\n",
    "# xl = pd.ExcelFile(file)\n",
    "\n",
    "# # Print the sheet names\n",
    "# print(xl.sheet_names)\n",
    "# df_ltc = xl.parse(xl.sheet_names[0])\n",
    "\n",
    "\n",
    "# file='/content/Data_test (2).xlsx'\n",
    "\n",
    "# # Load spreadsheet\n",
    "# xl = pd.ExcelFile(file)\n",
    "\n",
    "# # Print the sheet names\n",
    "# print(xl.sheet_names)\n",
    "# df_snp = xl.parse(xl.sheet_names[0])"
   ]
  },
  {
   "cell_type": "code",
   "execution_count": null,
   "metadata": {
    "id": "erVdeLBpPuni"
   },
   "outputs": [],
   "source": [
    "\n",
    "data_btc=df_btc.copy()\n",
    "data_snp=df_snp.copy()\n",
    "# data_eth=df_eth.copy()\n",
    "# data_ltc=df_ltc.copy()"
   ]
  },
  {
   "cell_type": "code",
   "execution_count": null,
   "metadata": {
    "id": "sEVe334XFLV2"
   },
   "outputs": [],
   "source": [
    "import math\n",
    "import pandas as pd\n",
    "import numpy as np\n",
    "import datetime\n",
    "from datetime import time\n",
    "from datetime import timedelta\n",
    "# data=data_snp\n",
    "\n",
    "def rv(data):\n",
    "\n",
    "    rv_tmp=0\n",
    "    rr_itog=[]\n",
    "    count=0\n",
    "    rv_itog=[]\n",
    "    count_itog=[]\n",
    "    date=[]\n",
    "    r_date=[]\n",
    "\n",
    "    t_time=[]\n",
    "\n",
    "    rv_itog_ne_shk=[]\n",
    "\n",
    "    r_kon_date=[]\n",
    "    r_nach_date=[]\n",
    "    time_nachal=[]\n",
    "    time_kon=[]\n",
    "\n",
    "    datetimeFormat = '%H:%M:%S'    \n",
    "    time1 = '00:00:00'\n",
    "    time2 = '23:55:00'  \n",
    "    timedelta = datetime.datetime.strptime(time1, datetimeFormat) - datetime.datetime.strptime(time2,datetimeFormat)\n",
    "\n",
    "    time_nach=[]\n",
    "    time_nach.append(0)\n",
    "\n",
    "\n",
    "    # беру начала дней, сохраняю их для дальнейших дейсвтий\n",
    "    for i in range(0,len(data)-1):\n",
    "        if str(data['<DATE>'][i+1])==str(data['<DATE>'][i]):  \n",
    "            z=0\n",
    "        else:\n",
    "            #сохранил начала дней\n",
    "            time_nach.append(i+1)\n",
    "\n",
    "    # time_nach.append(len(data)-1)#тут взял конец последнего дня\n",
    "\n",
    "\n",
    "    for i in range(0,len(time_nach)-1):#здесь иду по len(time_nach)-3 включительно, т.к. в нижнем цикле time_nach[i+1], \n",
    "    #     т.е. там бегу до len(time_nach)-2, а последний потом руками надо будет считать\n",
    "        rv_tmp=0\n",
    "        count=0\n",
    "\n",
    "        for j in range(time_nach[i], time_nach[i+1]-1):\n",
    "            rv_tmp=rv_tmp+(math.log(float(data['<CLOSE>'][j+1]))-math.log(float(data['<CLOSE>'][j])))**2\n",
    "            count=count+1            \n",
    "            if str(data['<TIME>'][j+2])==str(time1):\n",
    "                    j=time_nach[i+1]-1\n",
    "                    rv_tmp=rv_tmp+(math.log(float(data['<CLOSE>'][j+1]))-math.log(float(data['<CLOSE>'][j])))**2\n",
    "                    count=count+1\n",
    "\n",
    " \n",
    "        #00:05:00-00:00:00\n",
    "        if str(data['<TIME>'][time_nach[i+1]])==str(time1) and str(data['<TIME>'][time_nach[i]])==str(time1):\n",
    "            rr_tmp=(math.log(float(data['<CLOSE>'][time_nach[i+1]]))-math.log(float(data['<CLOSE>'][time_nach[i]+1])))\n",
    "        #00:05:00-конец дня\n",
    "        elif str(data['<TIME>'][time_nach[i+1]])!=str(time1) and str(data['<TIME>'][time_nach[i]])==str(time1):\n",
    "            rr_tmp=(math.log(float(data['<CLOSE>'][time_nach[i+1]-1]))-math.log(float(data['<CLOSE>'][time_nach[i]+1])))\n",
    "        #начало-конец дня\n",
    "        elif str(data['<TIME>'][time_nach[i+1]])!=str(time1) and str(data['<TIME>'][time_nach[i]])!=str(time1):\n",
    "            rr_tmp=(math.log(float(data['<CLOSE>'][time_nach[i+1]-1]))-math.log(float(data['<CLOSE>'][time_nach[i]])))\n",
    "        #начало-00:00:00\n",
    "        elif str(data['<TIME>'][time_nach[i+1]])==str(time1) and str(data['<TIME>'][time_nach[i]])!=str(time1):\n",
    "            rr_tmp=(math.log(float(data['<CLOSE>'][time_nach[i+1]]))-math.log(float(data['<CLOSE>'][time_nach[i]])))\n",
    "        else:\n",
    "            zz=0\n",
    "        \n",
    "        rv_itog.append(rv_tmp)\n",
    "        rr_itog.append(rr_tmp)\n",
    "        date.append(data['<DATE>'][time_nach[i]])\n",
    "        count_itog.append(count)\n",
    "\n",
    "                #какова разница между торговыми днями, для отслеживания выходных и праздников\n",
    "        razn=data['<DATE>'][time_nach[i+1]]-data['<DATE>'][time_nach[i]]\n",
    "        r_date.append(razn.days-1)\n",
    "\n",
    "                #считаю сколько прошло времени с начала дня, когда началась торговля, т.е. с начала дня торги или нет\n",
    "        r2=datetime.datetime.strptime(str(data['<TIME>'][time_nach[i]]), datetimeFormat) - datetime.datetime.strptime(time1,datetimeFormat)\n",
    "        r_nach_date.append((r2.seconds)/(60*5))\n",
    "\n",
    "                #       считаю сколько прошло времени с окончания торгов до конца дня\n",
    "\n",
    "\n",
    "        if str(data['<TIME>'][time_nach[i+1]])==str(time1):\n",
    "            r1=datetime.datetime.strptime(time1, datetimeFormat) - datetime.datetime.strptime(str(data['<TIME>'][time_nach[i+1]]),datetimeFormat)\n",
    "            r_kon_date.append((r1.seconds)/(60*5))\n",
    "        else:\n",
    "            r1=datetime.datetime.strptime(time1, datetimeFormat) - datetime.datetime.strptime(str(data['<TIME>'][time_nach[i+1]-1]),datetimeFormat)\n",
    "            r_kon_date.append((r1.seconds)/(60*5))\n",
    "\n",
    "\n",
    "                #       фиксирую время начала и время конца в каждый день\n",
    "        if str(data['<TIME>'][time_nach[i+1]])==str(time1):\n",
    "            time_nachal.append(time((data['<TIME>'][time_nach[i]]).hour,(data['<TIME>'][time_nach[i]]).minute,(data['<TIME>'][time_nach[i]]).second))\n",
    "            time_kon.append(time((data['<TIME>'][time_nach[i+1]]).hour,(data['<TIME>'][time_nach[i+1]]).minute,(data['<TIME>'][time_nach[i+1]]).second))\n",
    "        else:\n",
    "            time_nachal.append(time((data['<TIME>'][time_nach[i]]).hour,(data['<TIME>'][time_nach[i]]).minute,(data['<TIME>'][time_nach[i]]).second))\n",
    "            time_kon.append(time((data['<TIME>'][time_nach[i+1]-1]).hour,(data['<TIME>'][time_nach[i+1]-1]).minute,(data['<TIME>'][time_nach[i+1]-1]).second))\n",
    "\n",
    "    \n",
    "    #         для последнего дня\n",
    "    rv_tmp=0\n",
    "    count=0\n",
    "    for i in range(time_nach[len(time_nach)-1],len(data)-1):\n",
    "            rv_tmp=rv_tmp+(math.log(float(data['<CLOSE>'][i+1]))-math.log(float(data['<CLOSE>'][i])))**2\n",
    "            count=count+1\n",
    "\n",
    "    rv_itog.append(rv_tmp)\n",
    "    \n",
    "            #00:05:00-00:00:00\n",
    "    if str(data['<TIME>'][time_nach[len(time_nach)-1]])==str(time1):\n",
    "        rr_tmp=(math.log(float(data['<CLOSE>'][len(data)-1]))-math.log(float(data['<CLOSE>'][time_nach[len(time_nach)-1]+1])))\n",
    "    #начало-00:00:00\n",
    "    elif str(data['<TIME>'][time_nach[len(time_nach)-1]])!=str(time1):\n",
    "        rr_tmp=(math.log(float(data['<CLOSE>'][len(data)-1]))-math.log(float(data['<CLOSE>'][time_nach[len(time_nach)-1]])))\n",
    "    else:\n",
    "        zz=0\n",
    "    \n",
    "    rr_itog.append(rr_tmp)\n",
    "    date.append(data['<DATE>'][time_nach[-1]])\n",
    "    count_itog.append(count)\n",
    "\n",
    "            #какова разница между торговыми днями, для отслеживания выходных и праздников\n",
    "    razn=data['<DATE>'][time_nach[-1]]-data['<DATE>'][time_nach[-2]]\n",
    "    r_date.append(razn.days-1)\n",
    "\n",
    "            #считаю сколько прошло времени с начала дня, когда началась торговля, т.е. с начала дня торги или нет\n",
    "    r2=datetime.datetime.strptime(str(data['<TIME>'][time_nach[-1]]), datetimeFormat) - datetime.datetime.strptime(time1,datetimeFormat)\n",
    "    r_nach_date.append((r2.seconds)/(60*5))\n",
    "\n",
    "            #       считаю сколько прошло времени с окончания торгов до конца дня\n",
    "    r1=datetime.datetime.strptime(time2, datetimeFormat) - datetime.datetime.strptime(str(data['<TIME>'][len(data)-1]),datetimeFormat)\n",
    "    r_kon_date.append((r1.seconds)/(60*5))\n",
    "\n",
    "            #       фиксирую время начала и время конца в каждый день\n",
    "    time_nachal.append(time((data['<TIME>'][time_nach[-1]]).hour,(data['<TIME>'][time_nach[-1]]).minute,(data['<TIME>'][time_nach[-1]]).second))\n",
    "    time_kon.append(time((data['<TIME>'][len(data)-1]).hour,(data['<TIME>'][len(data)-1]).minute,(data['<TIME>'][len(data)-1]).second))\n",
    "\n",
    "\n",
    "\n",
    "\n",
    "    na_vivod_rv=pd.DataFrame({'date': date,\n",
    "                                'rv_ne_shk': rv_itog,\n",
    "                                'rr_ne_shk': rr_itog,\n",
    "                                'razn': r_date,\n",
    "                                'count_itog':count_itog,\n",
    "                                'r_nach_date': r_nach_date,\n",
    "                                'r_kon_date': r_kon_date,\n",
    "                                'time_nach': time_nachal,\n",
    "                                'time_kon': time_kon\n",
    "                                     })\n",
    "    na_vivod_rv['rv_shk']=288*na_vivod_rv.rv_ne_shk/(288-na_vivod_rv.r_nach_date-na_vivod_rv.r_kon_date)\n",
    "    na_vivod_rv['rr_shk']=288*na_vivod_rv.rr_ne_shk/(288-na_vivod_rv.r_nach_date-na_vivod_rv.r_kon_date)\n",
    "\n",
    "    na_vivod_rv['shk']=(288-na_vivod_rv.r_nach_date-na_vivod_rv.r_kon_date)\n",
    "\n",
    "    return na_vivod_rv\n",
    "# print(na_vivod_rv[1:])\n",
    "\n",
    "\n",
    "# na_vivod_rv['rv_ne_shk']=288*na_vivod_rv.rv_tmp/(288-na_vivod_rv.r_nach_date-na_vivod_rv.r_kon_date)"
   ]
  },
  {
   "cell_type": "code",
   "execution_count": null,
   "metadata": {
    "id": "bTbacmOCX8eD"
   },
   "outputs": [],
   "source": [
    "na_vivod_btc=rv(data_btc)\n",
    "na_vivod_snp=rv(data_snp)\n",
    "# na_vivod_eth=rv(data_eth)\n",
    "# na_vivod_ltc=rv(data_ltc)\n",
    "\n"
   ]
  },
  {
   "cell_type": "code",
   "execution_count": null,
   "metadata": {
    "colab": {
     "base_uri": "https://localhost:8080/"
    },
    "id": "R4C4SQWnAUM1",
    "outputId": "245eef7c-712c-434a-dc4a-52810b705436"
   },
   "outputs": [],
   "source": [
    "print(na_vivod_snp)"
   ]
  },
  {
   "cell_type": "code",
   "execution_count": null,
   "metadata": {
    "colab": {
     "base_uri": "https://localhost:8080/"
    },
    "id": "LXADsw4HVhsk",
    "outputId": "41de35d1-160b-4a5e-8c66-42f5a308e1e7"
   },
   "outputs": [],
   "source": [
    "# print(na_vivod_btc)\n",
    "# print(na_vivod_snp)\n",
    "res = na_vivod_btc.merge(na_vivod_snp, on=[\"date\"])\n",
    "# res = na_vivod_btc.merge(na_vivod_eth, on=[\"date\"])\n",
    "\n",
    "# res_res=res.merge(na_vivod_ltc, on=[\"date\"])\n",
    "\n",
    "# print(res_res)\n"
   ]
  },
  {
   "cell_type": "code",
   "execution_count": null,
   "metadata": {
    "colab": {
     "base_uri": "https://localhost:8080/"
    },
    "id": "yxQo8fqowDfB",
    "outputId": "5f776140-f2b3-4e0b-cc9c-255ac83f54ed",
    "scrolled": true
   },
   "outputs": [],
   "source": [
    "# print(res_res[0:10])\n"
   ]
  },
  {
   "cell_type": "code",
   "execution_count": null,
   "metadata": {
    "id": "t4_U4IOIaanu"
   },
   "outputs": [],
   "source": [
    "# print(len(res[res['hours_btc']>8]))\n",
    "# когда по часам\n",
    "# res=res[res['hours_btc']>8]"
   ]
  },
  {
   "cell_type": "code",
   "execution_count": null,
   "metadata": {
    "colab": {
     "base_uri": "https://localhost:8080/"
    },
    "id": "iC4Zh0ANeOVq",
    "outputId": "4096fada-610f-4b4c-d609-27bdeb8ce1ac"
   },
   "outputs": [],
   "source": [
    "!pip install XlsxWriter\n",
    "writer = pd.ExcelWriter('all_cr1.xlsx', engine='xlsxwriter')\n",
    "# Write your DataFrame to a file     \n",
    "res.to_excel(writer, 'Sheet1')\n",
    "# Save the result \n",
    "writer.save()"
   ]
  },
  {
   "cell_type": "code",
   "execution_count": null,
   "metadata": {},
   "outputs": [],
   "source": []
  }
 ],
 "metadata": {
  "colab": {
   "collapsed_sections": [],
   "name": "Новый_расчет_волатильностей_с_доходностями.ipynb",
   "provenance": []
  },
  "kernelspec": {
   "display_name": "Python 3 (ipykernel)",
   "language": "python",
   "name": "python3"
  },
  "language_info": {
   "codemirror_mode": {
    "name": "ipython",
    "version": 3
   },
   "file_extension": ".py",
   "mimetype": "text/x-python",
   "name": "python",
   "nbconvert_exporter": "python",
   "pygments_lexer": "ipython3",
   "version": "3.9.7"
  }
 },
 "nbformat": 4,
 "nbformat_minor": 1
}
